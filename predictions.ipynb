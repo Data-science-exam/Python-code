{
 "cells": [
  {
   "cell_type": "code",
   "execution_count": 120,
   "metadata": {},
   "outputs": [],
   "source": [
    "#Importing packages\n",
    "import xgboost as xgb\n",
    "from xgboost import XGBClassifier\n",
    "import pandas as pd\n",
    "import numpy as np\n",
    "import graphviz\n",
    "from sklearn.linear_model import LogisticRegression\n",
    "import sklearn\n",
    "from sklearn.model_selection import train_test_split\n",
    "from hyperopt import hp\n",
    "import inspect\n",
    "from hgboost_mod import hgboost\n",
    "import random\n",
    "from sklearn.metrics import accuracy_score\n",
    "from sklearn.metrics import roc_auc_score\n",
    "from sklearn.metrics import confusion_matrix\n"
   ]
  },
  {
   "attachments": {},
   "cell_type": "markdown",
   "metadata": {},
   "source": [
    "## Data cleaning"
   ]
  },
  {
   "cell_type": "code",
   "execution_count": 121,
   "metadata": {},
   "outputs": [
    {
     "name": "stdout",
     "output_type": "stream",
     "text": [
      "       Unnamed: 0  gender   age  hypertension  heart_disease  smoking_history  \\\n",
      "0               1       0  80.0             0              1                0   \n",
      "1               2       0  54.0             0              0                5   \n",
      "2               3       1  28.0             0              0                0   \n",
      "3               4       0  36.0             0              0                1   \n",
      "4               5       1  76.0             1              1                1   \n",
      "...           ...     ...   ...           ...            ...              ...   \n",
      "99977       99978       0  80.0             0              0                5   \n",
      "99978       99979       0   2.0             0              0                5   \n",
      "99979       99980       1  66.0             0              0                3   \n",
      "99980       99981       0  24.0             0              0                0   \n",
      "99981       99982       0  57.0             0              0                1   \n",
      "\n",
      "         bmi  HbA1c_level  blood_glucose_level  diabetes     id  \n",
      "0      25.19          6.6                  140         0      1  \n",
      "1      27.32          6.6                   80         0      2  \n",
      "2      27.32          5.7                  158         0      3  \n",
      "3      23.45          5.0                  155         0      4  \n",
      "4      20.14          4.8                  155         0      5  \n",
      "...      ...          ...                  ...       ...    ...  \n",
      "99977  27.32          6.2                   90         0  99978  \n",
      "99978  17.37          6.5                  100         0  99979  \n",
      "99979  27.83          5.7                  155         0  99980  \n",
      "99980  35.42          4.0                  100         0  99981  \n",
      "99981  22.43          6.6                   90         0  99982  \n",
      "\n",
      "[99982 rows x 11 columns]\n"
     ]
    },
    {
     "data": {
      "text/html": [
       "<div>\n",
       "<style scoped>\n",
       "    .dataframe tbody tr th:only-of-type {\n",
       "        vertical-align: middle;\n",
       "    }\n",
       "\n",
       "    .dataframe tbody tr th {\n",
       "        vertical-align: top;\n",
       "    }\n",
       "\n",
       "    .dataframe thead th {\n",
       "        text-align: right;\n",
       "    }\n",
       "</style>\n",
       "<table border=\"1\" class=\"dataframe\">\n",
       "  <thead>\n",
       "    <tr style=\"text-align: right;\">\n",
       "      <th></th>\n",
       "      <th>id</th>\n",
       "      <th>gender</th>\n",
       "      <th>age</th>\n",
       "      <th>hypertension</th>\n",
       "      <th>heart_disease</th>\n",
       "      <th>smoking_history</th>\n",
       "      <th>bmi</th>\n",
       "      <th>HbA1c_level</th>\n",
       "      <th>blood_glucose_level</th>\n",
       "      <th>diabetes</th>\n",
       "    </tr>\n",
       "  </thead>\n",
       "  <tbody>\n",
       "    <tr>\n",
       "      <th>0</th>\n",
       "      <td>1</td>\n",
       "      <td>0</td>\n",
       "      <td>80.0</td>\n",
       "      <td>0</td>\n",
       "      <td>1</td>\n",
       "      <td>0</td>\n",
       "      <td>25.19</td>\n",
       "      <td>6.6</td>\n",
       "      <td>140</td>\n",
       "      <td>0</td>\n",
       "    </tr>\n",
       "    <tr>\n",
       "      <th>1</th>\n",
       "      <td>2</td>\n",
       "      <td>0</td>\n",
       "      <td>54.0</td>\n",
       "      <td>0</td>\n",
       "      <td>0</td>\n",
       "      <td>5</td>\n",
       "      <td>27.32</td>\n",
       "      <td>6.6</td>\n",
       "      <td>80</td>\n",
       "      <td>0</td>\n",
       "    </tr>\n",
       "    <tr>\n",
       "      <th>2</th>\n",
       "      <td>3</td>\n",
       "      <td>1</td>\n",
       "      <td>28.0</td>\n",
       "      <td>0</td>\n",
       "      <td>0</td>\n",
       "      <td>0</td>\n",
       "      <td>27.32</td>\n",
       "      <td>5.7</td>\n",
       "      <td>158</td>\n",
       "      <td>0</td>\n",
       "    </tr>\n",
       "    <tr>\n",
       "      <th>3</th>\n",
       "      <td>4</td>\n",
       "      <td>0</td>\n",
       "      <td>36.0</td>\n",
       "      <td>0</td>\n",
       "      <td>0</td>\n",
       "      <td>1</td>\n",
       "      <td>23.45</td>\n",
       "      <td>5.0</td>\n",
       "      <td>155</td>\n",
       "      <td>0</td>\n",
       "    </tr>\n",
       "    <tr>\n",
       "      <th>4</th>\n",
       "      <td>5</td>\n",
       "      <td>1</td>\n",
       "      <td>76.0</td>\n",
       "      <td>1</td>\n",
       "      <td>1</td>\n",
       "      <td>1</td>\n",
       "      <td>20.14</td>\n",
       "      <td>4.8</td>\n",
       "      <td>155</td>\n",
       "      <td>0</td>\n",
       "    </tr>\n",
       "    <tr>\n",
       "      <th>...</th>\n",
       "      <td>...</td>\n",
       "      <td>...</td>\n",
       "      <td>...</td>\n",
       "      <td>...</td>\n",
       "      <td>...</td>\n",
       "      <td>...</td>\n",
       "      <td>...</td>\n",
       "      <td>...</td>\n",
       "      <td>...</td>\n",
       "      <td>...</td>\n",
       "    </tr>\n",
       "    <tr>\n",
       "      <th>99977</th>\n",
       "      <td>99978</td>\n",
       "      <td>0</td>\n",
       "      <td>80.0</td>\n",
       "      <td>0</td>\n",
       "      <td>0</td>\n",
       "      <td>5</td>\n",
       "      <td>27.32</td>\n",
       "      <td>6.2</td>\n",
       "      <td>90</td>\n",
       "      <td>0</td>\n",
       "    </tr>\n",
       "    <tr>\n",
       "      <th>99978</th>\n",
       "      <td>99979</td>\n",
       "      <td>0</td>\n",
       "      <td>2.0</td>\n",
       "      <td>0</td>\n",
       "      <td>0</td>\n",
       "      <td>5</td>\n",
       "      <td>17.37</td>\n",
       "      <td>6.5</td>\n",
       "      <td>100</td>\n",
       "      <td>0</td>\n",
       "    </tr>\n",
       "    <tr>\n",
       "      <th>99979</th>\n",
       "      <td>99980</td>\n",
       "      <td>1</td>\n",
       "      <td>66.0</td>\n",
       "      <td>0</td>\n",
       "      <td>0</td>\n",
       "      <td>3</td>\n",
       "      <td>27.83</td>\n",
       "      <td>5.7</td>\n",
       "      <td>155</td>\n",
       "      <td>0</td>\n",
       "    </tr>\n",
       "    <tr>\n",
       "      <th>99980</th>\n",
       "      <td>99981</td>\n",
       "      <td>0</td>\n",
       "      <td>24.0</td>\n",
       "      <td>0</td>\n",
       "      <td>0</td>\n",
       "      <td>0</td>\n",
       "      <td>35.42</td>\n",
       "      <td>4.0</td>\n",
       "      <td>100</td>\n",
       "      <td>0</td>\n",
       "    </tr>\n",
       "    <tr>\n",
       "      <th>99981</th>\n",
       "      <td>99982</td>\n",
       "      <td>0</td>\n",
       "      <td>57.0</td>\n",
       "      <td>0</td>\n",
       "      <td>0</td>\n",
       "      <td>1</td>\n",
       "      <td>22.43</td>\n",
       "      <td>6.6</td>\n",
       "      <td>90</td>\n",
       "      <td>0</td>\n",
       "    </tr>\n",
       "  </tbody>\n",
       "</table>\n",
       "<p>99982 rows × 10 columns</p>\n",
       "</div>"
      ],
      "text/plain": [
       "          id  gender   age  hypertension  heart_disease  smoking_history  \\\n",
       "0          1       0  80.0             0              1                0   \n",
       "1          2       0  54.0             0              0                5   \n",
       "2          3       1  28.0             0              0                0   \n",
       "3          4       0  36.0             0              0                1   \n",
       "4          5       1  76.0             1              1                1   \n",
       "...      ...     ...   ...           ...            ...              ...   \n",
       "99977  99978       0  80.0             0              0                5   \n",
       "99978  99979       0   2.0             0              0                5   \n",
       "99979  99980       1  66.0             0              0                3   \n",
       "99980  99981       0  24.0             0              0                0   \n",
       "99981  99982       0  57.0             0              0                1   \n",
       "\n",
       "         bmi  HbA1c_level  blood_glucose_level  diabetes  \n",
       "0      25.19          6.6                  140         0  \n",
       "1      27.32          6.6                   80         0  \n",
       "2      27.32          5.7                  158         0  \n",
       "3      23.45          5.0                  155         0  \n",
       "4      20.14          4.8                  155         0  \n",
       "...      ...          ...                  ...       ...  \n",
       "99977  27.32          6.2                   90         0  \n",
       "99978  17.37          6.5                  100         0  \n",
       "99979  27.83          5.7                  155         0  \n",
       "99980  35.42          4.0                  100         0  \n",
       "99981  22.43          6.6                   90         0  \n",
       "\n",
       "[99982 rows x 10 columns]"
      ]
     },
     "execution_count": 121,
     "metadata": {},
     "output_type": "execute_result"
    }
   ],
   "source": [
    "#Importing the cleaned data\n",
    "data = pd.read_csv(\"full_df.csv\")\n",
    "\n",
    "print(data)\n",
    "\n",
    "#Moving \"id\" to the first column, so diabetes (the target column) is the last\n",
    "data = data[ ['id'] + [ col for col in data.columns if col != 'id' ] ]\n",
    "\n",
    "#Deleting the unnamed column (just a duplicate of id)\n",
    "#First rename the column\n",
    "data.rename({\"Unnamed: 0\":\"a\"}, axis=\"columns\", inplace=True)\n",
    "\n",
    "# Then, drop the column as usual.\n",
    "data.drop([\"a\"], axis=1, inplace=True)\n",
    "\n",
    "#Inspecting that all looks good.\n",
    "data"
   ]
  },
  {
   "cell_type": "code",
   "execution_count": 122,
   "metadata": {},
   "outputs": [
    {
     "name": "stdout",
     "output_type": "stream",
     "text": [
      "[[  0.    80.     0.   ...  25.19   6.6  140.  ]\n",
      " [  0.    54.     0.   ...  27.32   6.6   80.  ]\n",
      " [  1.    28.     0.   ...  27.32   5.7  158.  ]\n",
      " ...\n",
      " [  1.    66.     0.   ...  27.83   5.7  155.  ]\n",
      " [  0.    24.     0.   ...  35.42   4.   100.  ]\n",
      " [  0.    57.     0.   ...  22.43   6.6   90.  ]]\n"
     ]
    },
    {
     "data": {
      "text/plain": [
       "array([0, 0, 0, ..., 0, 0, 0])"
      ]
     },
     "execution_count": 122,
     "metadata": {},
     "output_type": "execute_result"
    }
   ],
   "source": [
    "#Splitting data into predictor variables and target variable\n",
    "X = data.iloc[:,1:-1].values\n",
    "y = data.iloc[:,-1].values\n",
    "\n",
    "print(X)\n",
    "y"
   ]
  },
  {
   "cell_type": "code",
   "execution_count": 123,
   "metadata": {},
   "outputs": [],
   "source": [
    "#Splitting into test and train set\n",
    "X_train, X_test, y_train, y_test = train_test_split(X, y, test_size=.20, random_state=26) "
   ]
  },
  {
   "attachments": {},
   "cell_type": "markdown",
   "metadata": {},
   "source": [
    "## Fitting classifiers"
   ]
  },
  {
   "attachments": {},
   "cell_type": "markdown",
   "metadata": {},
   "source": [
    "### XGBoost"
   ]
  },
  {
   "cell_type": "code",
   "execution_count": 124,
   "metadata": {},
   "outputs": [
    {
     "name": "stdout",
     "output_type": "stream",
     "text": [
      "Score on testset for suggested hyperparameters: 0.9729959493924089\n",
      "Score on testset for default hyperparameters: 0.972145821873281\n"
     ]
    }
   ],
   "source": [
    "# create model with suggested hyperparameter settings:\n",
    "bst = XGBClassifier(n_estimators=2, max_depth=2, learning_rate=1, objective='binary:logistic')\n",
    "# fit model\n",
    "bst.fit(X_train, y_train)\n",
    "# make predictions\n",
    "preds = bst.predict(X_test)\n",
    "\n",
    "# create model with default hyperparameter settings:\n",
    "bst_2 = XGBClassifier(objective='binary:logistic')\n",
    "# fit model\n",
    "bst_2.fit(X_train, y_train)\n",
    "# make predictions\n",
    "preds_2 = bst_2.predict(X_test)\n",
    "\n",
    "\n",
    "#Printing accuracy scores of the two classifiers:\n",
    "print(\"Score on testset for suggested hyperparameters: \" + str(bst.score(X_test, y_test)))\n",
    "#print(\"Score on trainset for suggested hyperparameters:  \"+ str(bst.score(X_train, y_train)))\n",
    "\n",
    "print(\"Score on testset for default hyperparameters: \" + str(bst_2.score(X_test, y_test)))\n",
    "#print(\"Score on trainset for default hyperparameters: : \"+ str(bst_2.score(X_train, y_train)))\n"
   ]
  },
  {
   "cell_type": "code",
   "execution_count": 125,
   "metadata": {},
   "outputs": [
    {
     "name": "stdout",
     "output_type": "stream",
     "text": [
      "AUC score for suggested hyperparameters on test: 0.8360655737704918\n",
      "AUC score for default hyperparameters on test: 0.8436160536290076\n"
     ]
    }
   ],
   "source": [
    "# Area under the curve scores\n",
    "print(\"AUC score for suggested hyperparameters on test: \" + str(roc_auc_score(y_test, preds)))\n",
    "print(\"AUC score for default hyperparameters on test: \" + str(roc_auc_score(y_test, preds_2)))"
   ]
  },
  {
   "attachments": {},
   "cell_type": "markdown",
   "metadata": {},
   "source": [
    "### Logistic regression"
   ]
  },
  {
   "cell_type": "code",
   "execution_count": 126,
   "metadata": {},
   "outputs": [
    {
     "name": "stdout",
     "output_type": "stream",
     "text": [
      "Accuracy score of logistic regression on test dataset: 0.9614442166324949\n"
     ]
    }
   ],
   "source": [
    "#Defining the model\n",
    "lr=LogisticRegression(max_iter=1000)\n",
    "#Model fit\n",
    "lr.fit(X_train, y_train)\n",
    "\n",
    "#Accuracy score\n",
    "print(\"Accuracy score of logistic regression on test dataset: \" + str(lr.score(X_test, y_test)))\n",
    "#print(\"Accuracy score of logistic regression on train dataset: \"+ str(lr.score(X_train, y_train)))\n"
   ]
  },
  {
   "cell_type": "code",
   "execution_count": 127,
   "metadata": {},
   "outputs": [
    {
     "name": "stdout",
     "output_type": "stream",
     "text": [
      "[-27.16401422]\n",
      "[ 0.2822045   0.0469787   0.7448817   0.68987269 -0.07596289  0.08987842\n",
      "  2.33150651  0.03325922]\n"
     ]
    }
   ],
   "source": [
    "#Intercept of logistic regression classifier\n",
    "print(lr.intercept_)\n",
    "\n",
    "#Weights of logistic regression classifier\n",
    "print(lr.coef_[0])"
   ]
  },
  {
   "attachments": {},
   "cell_type": "markdown",
   "metadata": {},
   "source": [
    "## Hyperparameter tuning"
   ]
  },
  {
   "cell_type": "code",
   "execution_count": 56,
   "metadata": {},
   "outputs": [],
   "source": [
    "#Hyperparameter optimisation of XGBoost\n",
    "\n",
    "hgb = hgboost(\n",
    "    max_eval=250,      # Search space is based  on the number of evaluations.\n",
    "    threshold=0.5,     # Classification threshold. In case of two-class model this is 0.5.\n",
    "    cv=5,              # k-folds cross-validation.\n",
    "    test_size=0.2,     # Percentage split for the testset.\n",
    "    val_size=0.2,      # Percentage split for the validationset.\n",
    "    top_cv_evals=20,   # Number of top best performing models that is evaluated.\n",
    "    is_unbalance=True, # Control the balance of positive and negative weights, useful for unbalanced classes.\n",
    "    random_state=1997, # Fix the random state to create reproducible results.\n",
    "    n_jobs=-1,         # The number of CPU jobs to run in parallel. -1 means using all processors.\n",
    "    gpu=False,         # Compute using GPU in case of True.\n",
    "    verbose=3,         # Print progress to screen.\n",
    ")"
   ]
  },
  {
   "cell_type": "code",
   "execution_count": 57,
   "metadata": {},
   "outputs": [
    {
     "data": {
      "text/html": [
       "<div>\n",
       "<style scoped>\n",
       "    .dataframe tbody tr th:only-of-type {\n",
       "        vertical-align: middle;\n",
       "    }\n",
       "\n",
       "    .dataframe tbody tr th {\n",
       "        vertical-align: top;\n",
       "    }\n",
       "\n",
       "    .dataframe thead th {\n",
       "        text-align: right;\n",
       "    }\n",
       "</style>\n",
       "<table border=\"1\" class=\"dataframe\">\n",
       "  <thead>\n",
       "    <tr style=\"text-align: right;\">\n",
       "      <th></th>\n",
       "      <th>gender</th>\n",
       "      <th>age</th>\n",
       "      <th>hypertension</th>\n",
       "      <th>heart_disease</th>\n",
       "      <th>smoking_history</th>\n",
       "      <th>bmi</th>\n",
       "      <th>HbA1c_level</th>\n",
       "      <th>blood_glucose_level</th>\n",
       "    </tr>\n",
       "  </thead>\n",
       "  <tbody>\n",
       "    <tr>\n",
       "      <th>0</th>\n",
       "      <td>0</td>\n",
       "      <td>80.0</td>\n",
       "      <td>0</td>\n",
       "      <td>1</td>\n",
       "      <td>0</td>\n",
       "      <td>25.19</td>\n",
       "      <td>6.6</td>\n",
       "      <td>140</td>\n",
       "    </tr>\n",
       "    <tr>\n",
       "      <th>1</th>\n",
       "      <td>0</td>\n",
       "      <td>54.0</td>\n",
       "      <td>0</td>\n",
       "      <td>0</td>\n",
       "      <td>5</td>\n",
       "      <td>27.32</td>\n",
       "      <td>6.6</td>\n",
       "      <td>80</td>\n",
       "    </tr>\n",
       "    <tr>\n",
       "      <th>2</th>\n",
       "      <td>1</td>\n",
       "      <td>28.0</td>\n",
       "      <td>0</td>\n",
       "      <td>0</td>\n",
       "      <td>0</td>\n",
       "      <td>27.32</td>\n",
       "      <td>5.7</td>\n",
       "      <td>158</td>\n",
       "    </tr>\n",
       "    <tr>\n",
       "      <th>3</th>\n",
       "      <td>0</td>\n",
       "      <td>36.0</td>\n",
       "      <td>0</td>\n",
       "      <td>0</td>\n",
       "      <td>1</td>\n",
       "      <td>23.45</td>\n",
       "      <td>5.0</td>\n",
       "      <td>155</td>\n",
       "    </tr>\n",
       "    <tr>\n",
       "      <th>4</th>\n",
       "      <td>1</td>\n",
       "      <td>76.0</td>\n",
       "      <td>1</td>\n",
       "      <td>1</td>\n",
       "      <td>1</td>\n",
       "      <td>20.14</td>\n",
       "      <td>4.8</td>\n",
       "      <td>155</td>\n",
       "    </tr>\n",
       "    <tr>\n",
       "      <th>...</th>\n",
       "      <td>...</td>\n",
       "      <td>...</td>\n",
       "      <td>...</td>\n",
       "      <td>...</td>\n",
       "      <td>...</td>\n",
       "      <td>...</td>\n",
       "      <td>...</td>\n",
       "      <td>...</td>\n",
       "    </tr>\n",
       "    <tr>\n",
       "      <th>99977</th>\n",
       "      <td>0</td>\n",
       "      <td>80.0</td>\n",
       "      <td>0</td>\n",
       "      <td>0</td>\n",
       "      <td>5</td>\n",
       "      <td>27.32</td>\n",
       "      <td>6.2</td>\n",
       "      <td>90</td>\n",
       "    </tr>\n",
       "    <tr>\n",
       "      <th>99978</th>\n",
       "      <td>0</td>\n",
       "      <td>2.0</td>\n",
       "      <td>0</td>\n",
       "      <td>0</td>\n",
       "      <td>5</td>\n",
       "      <td>17.37</td>\n",
       "      <td>6.5</td>\n",
       "      <td>100</td>\n",
       "    </tr>\n",
       "    <tr>\n",
       "      <th>99979</th>\n",
       "      <td>1</td>\n",
       "      <td>66.0</td>\n",
       "      <td>0</td>\n",
       "      <td>0</td>\n",
       "      <td>3</td>\n",
       "      <td>27.83</td>\n",
       "      <td>5.7</td>\n",
       "      <td>155</td>\n",
       "    </tr>\n",
       "    <tr>\n",
       "      <th>99980</th>\n",
       "      <td>0</td>\n",
       "      <td>24.0</td>\n",
       "      <td>0</td>\n",
       "      <td>0</td>\n",
       "      <td>0</td>\n",
       "      <td>35.42</td>\n",
       "      <td>4.0</td>\n",
       "      <td>100</td>\n",
       "    </tr>\n",
       "    <tr>\n",
       "      <th>99981</th>\n",
       "      <td>0</td>\n",
       "      <td>57.0</td>\n",
       "      <td>0</td>\n",
       "      <td>0</td>\n",
       "      <td>1</td>\n",
       "      <td>22.43</td>\n",
       "      <td>6.6</td>\n",
       "      <td>90</td>\n",
       "    </tr>\n",
       "  </tbody>\n",
       "</table>\n",
       "<p>99982 rows × 8 columns</p>\n",
       "</div>"
      ],
      "text/plain": [
       "       gender   age  hypertension  heart_disease  smoking_history    bmi  \\\n",
       "0           0  80.0             0              1                0  25.19   \n",
       "1           0  54.0             0              0                5  27.32   \n",
       "2           1  28.0             0              0                0  27.32   \n",
       "3           0  36.0             0              0                1  23.45   \n",
       "4           1  76.0             1              1                1  20.14   \n",
       "...       ...   ...           ...            ...              ...    ...   \n",
       "99977       0  80.0             0              0                5  27.32   \n",
       "99978       0   2.0             0              0                5  17.37   \n",
       "99979       1  66.0             0              0                3  27.83   \n",
       "99980       0  24.0             0              0                0  35.42   \n",
       "99981       0  57.0             0              0                1  22.43   \n",
       "\n",
       "       HbA1c_level  blood_glucose_level  \n",
       "0              6.6                  140  \n",
       "1              6.6                   80  \n",
       "2              5.7                  158  \n",
       "3              5.0                  155  \n",
       "4              4.8                  155  \n",
       "...            ...                  ...  \n",
       "99977          6.2                   90  \n",
       "99978          6.5                  100  \n",
       "99979          5.7                  155  \n",
       "99980          4.0                  100  \n",
       "99981          6.6                   90  \n",
       "\n",
       "[99982 rows x 8 columns]"
      ]
     },
     "execution_count": 57,
     "metadata": {},
     "output_type": "execute_result"
    }
   ],
   "source": [
    "#HGBoost needs a different dataformat \n",
    "\n",
    "#Splitting data into predictor variables and target variable\n",
    "# y = array with diabetes\n",
    "y = data['diabetes'].values\n",
    "\n",
    "#Remove diabetes and ID columns from dataframe\n",
    "X = data.loc[:,data.columns != \"diabetes\"]\n",
    "X = X.loc[:,X.columns != \"id\"]\n",
    "\n",
    "\n",
    "X"
   ]
  },
  {
   "cell_type": "code",
   "execution_count": 58,
   "metadata": {},
   "outputs": [
    {
     "name": "stdout",
     "output_type": "stream",
     "text": [
      "[hgboost] >Start hgboost classification.\n",
      "[hgboost] >Collecting xgb_clf parameters.\n",
      "[hgboost] >Correct for unbalanced classes using [scale_pos_weight]..\n",
      "[hgboost] >[13] hyperparameters in gridsearch space. Used loss function: [auc].\n",
      "[hgboost] >method: xgb_clf\n",
      "[hgboost] >eval_metric: auc\n",
      "[hgboost] >greater_is_better: True\n",
      "[hgboost] >*********************************************************************************\n",
      "[hgboost] >Total dataset: (99982, 8) \n",
      "[hgboost] >Validation set: (19997, 8) \n",
      "[hgboost] >Test-set: (19997, 8) \n",
      "[hgboost] >Train-set: (59988, 8) \n",
      "[hgboost] >*********************************************************************************\n",
      "[hgboost] >Searching across hyperparameter space for best performing parameters using maximum nr. evaluations: 250\n",
      "100%|██████████| 250/250 [06:02<00:00,  1.45s/trial, best loss: -0.9813016116431816]\n",
      "[hgboost]> Collecting the hyperparameters from the [250] trials.\n",
      "[hgboost] >[auc]: 0.9813 Best performing model across 250 iterations using Bayesian Optimization with Hyperopt.\n",
      "[hgboost] >*********************************************************************************\n",
      "[hgboost] >5-fold cross validation for the top 20 scoring models, Total nr. tests: 100\n",
      "[hgboost] >[auc] (average): 0.9804 Best 5-fold CV model using optimized hyperparameters.\n",
      "[hgboost] >*********************************************************************************\n",
      "[hgboost] >Evaluate best [xgb_clf] model on validation dataset (19997 samples, 20%)\n",
      "[hgboost] >[auc]: -0.9789 using optimized hyperparameters on validation set.\n",
      "[hgboost] >[auc]: -0.977 using default (not optimized) parameters on validation set.\n",
      "[hgboost] >*********************************************************************************\n",
      "[hgboost] >Retrain [xgb_clf] on the entire dataset with the optimal hyperparameters.\n",
      "[hgboost] >Fin!\n"
     ]
    }
   ],
   "source": [
    "# Fit model for a classification task.\n",
    "results = hgb.xgboost(X, y, pos_label=1)"
   ]
  },
  {
   "cell_type": "code",
   "execution_count": 128,
   "metadata": {},
   "outputs": [
    {
     "name": "stdout",
     "output_type": "stream",
     "text": [
      "{'colsample_bytree': 0.74, 'gamma': 2, 'learning_rate': 0.112803703324843, 'max_depth': 4, 'min_child_weight': 6.0, 'n_estimators': 110, 'subsample': 0.64}\n"
     ]
    }
   ],
   "source": [
    "# Results are also returned by the model:\n",
    "#print(results.keys())\n",
    "\n",
    "# The params contains the parameters to create the best performing model.\n",
    "print(results['params'])\n",
    "\n",
    "# The summary contains the model evaluations.\n",
    "#print(results['summary'])"
   ]
  },
  {
   "attachments": {},
   "cell_type": "markdown",
   "metadata": {},
   "source": [
    "## Fit using the optimised hyperparameter settings"
   ]
  },
  {
   "cell_type": "code",
   "execution_count": 129,
   "metadata": {},
   "outputs": [
    {
     "name": "stdout",
     "output_type": "stream",
     "text": [
      "Accuracy score on testset for optimal hyperparameters:   0.9733460019002851\n",
      "Accuracy score on testset for suggested hyperparameters: 0.9729959493924089\n",
      "Accuracy score on testset for default hyperparameters:   0.972145821873281\n"
     ]
    }
   ],
   "source": [
    "#Using the hyperparameters from the bayesian optimization\n",
    "bst_optimal = XGBClassifier(colsample_bytree = 0.74, gamma = 2, learning_rate=0.112803703324843,  max_depth=4, min_child_weight = 6.0, n_estimators=110, subsample = 0.64)\n",
    "\n",
    "# fit model\n",
    "bst_optimal.fit(X_train, y_train)\n",
    "# make predictions\n",
    "bst_optimal.predict(X_test)\n",
    "\n",
    "\n",
    "\n",
    "print(\"Accuracy score on testset for optimal hyperparameters:   \" + str(bst_optimal.score(X_test, y_test)))\n",
    "#print(\"Score on optimal train: \"+ str(bst_optimal.score(X_train, y_train)))\n",
    "\n",
    "print(\"Accuracy score on testset for suggested hyperparameters: \" + str(bst.score(X_test, y_test)))\n",
    "#print(\"Score on suggested train: \"+ str(bst.score(X_train, y_train)))\n",
    "\n",
    "print(\"Accuracy score on testset for default hyperparameters:   \" + str(bst_2.score(X_test, y_test)))\n",
    "#print(\"Score on default train: \"+ str(bst_2.score(X_train, y_train)))\n"
   ]
  },
  {
   "cell_type": "code",
   "execution_count": 130,
   "metadata": {},
   "outputs": [
    {
     "name": "stdout",
     "output_type": "stream",
     "text": [
      "AUC score for suggested hyperparameters on test: 0.8360655737704918\n",
      "AUC score for default hyperparameters on test: 0.8436160536290076\n",
      "AUC score for optimal hyperparameters on test: 0.8420593300675492\n"
     ]
    }
   ],
   "source": [
    "# Area under the curve scores\n",
    "print(\"AUC score for suggested hyperparameters on test: \" + str(roc_auc_score(y_test, preds)))\n",
    "print(\"AUC score for default hyperparameters on test: \" + str(roc_auc_score(y_test, preds_2)))\n",
    "print(\"AUC score for optimal hyperparameters on test: \" + str(roc_auc_score(y_test, opt_pred)))"
   ]
  },
  {
   "attachments": {},
   "cell_type": "markdown",
   "metadata": {},
   "source": [
    "## Plotting feature importance of optimal XGBoost"
   ]
  },
  {
   "cell_type": "code",
   "execution_count": 131,
   "metadata": {},
   "outputs": [
    {
     "data": {
      "text/plain": [
       "array([[18336,    14],\n",
       "       [  519,  1128]])"
      ]
     },
     "execution_count": 131,
     "metadata": {},
     "output_type": "execute_result"
    },
    {
     "data": {
      "image/png": "[encoded data removed]",
      "text/plain": [
       "<Figure size 640x480 with 1 Axes>"
      ]
     },
     "metadata": {},
     "output_type": "display_data"
    }
   ],
   "source": [
    "#Plotting feature importance of best XGBoost model\n",
    "xgb.plot_importance(bst_optimal)\n",
    "\n",
    "#Getting values for confusion matrix (plotted in R)\n",
    "confusion_matrix(y_test, opt_pred)"
   ]
  },
  {
   "cell_type": "code",
   "execution_count": null,
   "metadata": {},
   "outputs": [],
   "source": [
    "\n",
    "#print(hgb.results)\n",
    "\n",
    "# Plot the hyperparameter tuning.\n",
    "hgb.plot_params()\n",
    "\n",
    "# Plot the summary of all evaluted models.\n",
    "hgb.plot()\n",
    "\n",
    "# Plot results on the k-fold cross-validation.\n",
    "hgb.plot_cv()\n",
    "\n",
    "# Plot results on the validation set.\n",
    "hgb.plot_validation()\n",
    "\n",
    "# Plot the best performing tree.\n",
    "hgb.treeplot()"
   ]
  },
  {
   "cell_type": "code",
   "execution_count": 50,
   "metadata": {},
   "outputs": [
    {
     "name": "stdout",
     "output_type": "stream",
     "text": [
      "(X, y, pos_label=None, method='xgb_clf', eval_metric=None, greater_is_better=None, params='default')\n"
     ]
    }
   ],
   "source": [
    "print(inspect.signature(hgb.xgboost))"
   ]
  }
 ],
 "metadata": {
  "kernelspec": {
   "display_name": "Python 3",
   "language": "python",
   "name": "python3"
  },
  "language_info": {
   "codemirror_mode": {
    "name": "ipython",
    "version": 3
   },
   "file_extension": ".py",
   "mimetype": "text/x-python",
   "name": "python",
   "nbconvert_exporter": "python",
   "pygments_lexer": "ipython3",
   "version": "3.10.4"
  },
  "orig_nbformat": 4
 },
 "nbformat": 4,
 "nbformat_minor": 2
}
