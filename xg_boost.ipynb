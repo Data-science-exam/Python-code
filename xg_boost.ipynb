{
 "cells": [
  {
   "cell_type": "code",
   "execution_count": 30,
   "metadata": {},
   "outputs": [],
   "source": [
    "import xgboost as xgb\n",
    "from xgboost import XGBClassifier\n",
    "import pandas as pd\n",
    "import sklearn\n",
    "import numpy as np\n"
   ]
  },
  {
   "cell_type": "code",
   "execution_count": 42,
   "metadata": {},
   "outputs": [
    {
     "name": "stdout",
     "output_type": "stream",
     "text": [
      "       Unnamed: 0  gender   age  hypertension  heart_disease  smoking_history  \\\n",
      "0               1       0  80.0             0              1                0   \n",
      "1               2       0  54.0             0              0                5   \n",
      "2               3       1  28.0             0              0                0   \n",
      "3               4       0  36.0             0              0                1   \n",
      "4               5       1  76.0             1              1                1   \n",
      "...           ...     ...   ...           ...            ...              ...   \n",
      "99977       99978       0  80.0             0              0                5   \n",
      "99978       99979       0   2.0             0              0                5   \n",
      "99979       99980       1  66.0             0              0                3   \n",
      "99980       99981       0  24.0             0              0                0   \n",
      "99981       99982       0  57.0             0              0                1   \n",
      "\n",
      "         bmi  HbA1c_level  blood_glucose_level  diabetes     id  \n",
      "0      25.19          6.6                  140         0      1  \n",
      "1      27.32          6.6                   80         0      2  \n",
      "2      27.32          5.7                  158         0      3  \n",
      "3      23.45          5.0                  155         0      4  \n",
      "4      20.14          4.8                  155         0      5  \n",
      "...      ...          ...                  ...       ...    ...  \n",
      "99977  27.32          6.2                   90         0  99978  \n",
      "99978  17.37          6.5                  100         0  99979  \n",
      "99979  27.83          5.7                  155         0  99980  \n",
      "99980  35.42          4.0                  100         0  99981  \n",
      "99981  22.43          6.6                   90         0  99982  \n",
      "\n",
      "[99982 rows x 11 columns]\n"
     ]
    },
    {
     "data": {
      "text/html": [
       "<div>\n",
       "<style scoped>\n",
       "    .dataframe tbody tr th:only-of-type {\n",
       "        vertical-align: middle;\n",
       "    }\n",
       "\n",
       "    .dataframe tbody tr th {\n",
       "        vertical-align: top;\n",
       "    }\n",
       "\n",
       "    .dataframe thead th {\n",
       "        text-align: right;\n",
       "    }\n",
       "</style>\n",
       "<table border=\"1\" class=\"dataframe\">\n",
       "  <thead>\n",
       "    <tr style=\"text-align: right;\">\n",
       "      <th></th>\n",
       "      <th>id</th>\n",
       "      <th>gender</th>\n",
       "      <th>age</th>\n",
       "      <th>hypertension</th>\n",
       "      <th>heart_disease</th>\n",
       "      <th>smoking_history</th>\n",
       "      <th>bmi</th>\n",
       "      <th>HbA1c_level</th>\n",
       "      <th>blood_glucose_level</th>\n",
       "      <th>diabetes</th>\n",
       "    </tr>\n",
       "  </thead>\n",
       "  <tbody>\n",
       "    <tr>\n",
       "      <th>0</th>\n",
       "      <td>1</td>\n",
       "      <td>0</td>\n",
       "      <td>80.0</td>\n",
       "      <td>0</td>\n",
       "      <td>1</td>\n",
       "      <td>0</td>\n",
       "      <td>25.19</td>\n",
       "      <td>6.6</td>\n",
       "      <td>140</td>\n",
       "      <td>0</td>\n",
       "    </tr>\n",
       "    <tr>\n",
       "      <th>1</th>\n",
       "      <td>2</td>\n",
       "      <td>0</td>\n",
       "      <td>54.0</td>\n",
       "      <td>0</td>\n",
       "      <td>0</td>\n",
       "      <td>5</td>\n",
       "      <td>27.32</td>\n",
       "      <td>6.6</td>\n",
       "      <td>80</td>\n",
       "      <td>0</td>\n",
       "    </tr>\n",
       "    <tr>\n",
       "      <th>2</th>\n",
       "      <td>3</td>\n",
       "      <td>1</td>\n",
       "      <td>28.0</td>\n",
       "      <td>0</td>\n",
       "      <td>0</td>\n",
       "      <td>0</td>\n",
       "      <td>27.32</td>\n",
       "      <td>5.7</td>\n",
       "      <td>158</td>\n",
       "      <td>0</td>\n",
       "    </tr>\n",
       "    <tr>\n",
       "      <th>3</th>\n",
       "      <td>4</td>\n",
       "      <td>0</td>\n",
       "      <td>36.0</td>\n",
       "      <td>0</td>\n",
       "      <td>0</td>\n",
       "      <td>1</td>\n",
       "      <td>23.45</td>\n",
       "      <td>5.0</td>\n",
       "      <td>155</td>\n",
       "      <td>0</td>\n",
       "    </tr>\n",
       "    <tr>\n",
       "      <th>4</th>\n",
       "      <td>5</td>\n",
       "      <td>1</td>\n",
       "      <td>76.0</td>\n",
       "      <td>1</td>\n",
       "      <td>1</td>\n",
       "      <td>1</td>\n",
       "      <td>20.14</td>\n",
       "      <td>4.8</td>\n",
       "      <td>155</td>\n",
       "      <td>0</td>\n",
       "    </tr>\n",
       "    <tr>\n",
       "      <th>...</th>\n",
       "      <td>...</td>\n",
       "      <td>...</td>\n",
       "      <td>...</td>\n",
       "      <td>...</td>\n",
       "      <td>...</td>\n",
       "      <td>...</td>\n",
       "      <td>...</td>\n",
       "      <td>...</td>\n",
       "      <td>...</td>\n",
       "      <td>...</td>\n",
       "    </tr>\n",
       "    <tr>\n",
       "      <th>99977</th>\n",
       "      <td>99978</td>\n",
       "      <td>0</td>\n",
       "      <td>80.0</td>\n",
       "      <td>0</td>\n",
       "      <td>0</td>\n",
       "      <td>5</td>\n",
       "      <td>27.32</td>\n",
       "      <td>6.2</td>\n",
       "      <td>90</td>\n",
       "      <td>0</td>\n",
       "    </tr>\n",
       "    <tr>\n",
       "      <th>99978</th>\n",
       "      <td>99979</td>\n",
       "      <td>0</td>\n",
       "      <td>2.0</td>\n",
       "      <td>0</td>\n",
       "      <td>0</td>\n",
       "      <td>5</td>\n",
       "      <td>17.37</td>\n",
       "      <td>6.5</td>\n",
       "      <td>100</td>\n",
       "      <td>0</td>\n",
       "    </tr>\n",
       "    <tr>\n",
       "      <th>99979</th>\n",
       "      <td>99980</td>\n",
       "      <td>1</td>\n",
       "      <td>66.0</td>\n",
       "      <td>0</td>\n",
       "      <td>0</td>\n",
       "      <td>3</td>\n",
       "      <td>27.83</td>\n",
       "      <td>5.7</td>\n",
       "      <td>155</td>\n",
       "      <td>0</td>\n",
       "    </tr>\n",
       "    <tr>\n",
       "      <th>99980</th>\n",
       "      <td>99981</td>\n",
       "      <td>0</td>\n",
       "      <td>24.0</td>\n",
       "      <td>0</td>\n",
       "      <td>0</td>\n",
       "      <td>0</td>\n",
       "      <td>35.42</td>\n",
       "      <td>4.0</td>\n",
       "      <td>100</td>\n",
       "      <td>0</td>\n",
       "    </tr>\n",
       "    <tr>\n",
       "      <th>99981</th>\n",
       "      <td>99982</td>\n",
       "      <td>0</td>\n",
       "      <td>57.0</td>\n",
       "      <td>0</td>\n",
       "      <td>0</td>\n",
       "      <td>1</td>\n",
       "      <td>22.43</td>\n",
       "      <td>6.6</td>\n",
       "      <td>90</td>\n",
       "      <td>0</td>\n",
       "    </tr>\n",
       "  </tbody>\n",
       "</table>\n",
       "<p>99982 rows × 10 columns</p>\n",
       "</div>"
      ],
      "text/plain": [
       "          id  gender   age  hypertension  heart_disease  smoking_history  \\\n",
       "0          1       0  80.0             0              1                0   \n",
       "1          2       0  54.0             0              0                5   \n",
       "2          3       1  28.0             0              0                0   \n",
       "3          4       0  36.0             0              0                1   \n",
       "4          5       1  76.0             1              1                1   \n",
       "...      ...     ...   ...           ...            ...              ...   \n",
       "99977  99978       0  80.0             0              0                5   \n",
       "99978  99979       0   2.0             0              0                5   \n",
       "99979  99980       1  66.0             0              0                3   \n",
       "99980  99981       0  24.0             0              0                0   \n",
       "99981  99982       0  57.0             0              0                1   \n",
       "\n",
       "         bmi  HbA1c_level  blood_glucose_level  diabetes  \n",
       "0      25.19          6.6                  140         0  \n",
       "1      27.32          6.6                   80         0  \n",
       "2      27.32          5.7                  158         0  \n",
       "3      23.45          5.0                  155         0  \n",
       "4      20.14          4.8                  155         0  \n",
       "...      ...          ...                  ...       ...  \n",
       "99977  27.32          6.2                   90         0  \n",
       "99978  17.37          6.5                  100         0  \n",
       "99979  27.83          5.7                  155         0  \n",
       "99980  35.42          4.0                  100         0  \n",
       "99981  22.43          6.6                   90         0  \n",
       "\n",
       "[99982 rows x 10 columns]"
      ]
     },
     "execution_count": 42,
     "metadata": {},
     "output_type": "execute_result"
    }
   ],
   "source": [
    "data = pd.read_csv(\"/Users/linaelkjaerpedersen/Desktop/Datascience/Exam/R-code/full_df.csv\")\n",
    "\n",
    "print(data)\n",
    "\n",
    "data = data[ ['id'] + [ col for col in data.columns if col != 'id' ] ]\n",
    "\n",
    "data.rename({\"Unnamed: 0\":\"a\"}, axis=\"columns\", inplace=True)\n",
    "\n",
    "# Then, drop the column as usual.\n",
    "data.drop([\"a\"], axis=1, inplace=True)\n",
    "\n",
    "data"
   ]
  },
  {
   "cell_type": "code",
   "execution_count": 43,
   "metadata": {},
   "outputs": [
    {
     "name": "stdout",
     "output_type": "stream",
     "text": [
      "[[  0.    80.     0.   ...  25.19   6.6  140.  ]\n",
      " [  0.    54.     0.   ...  27.32   6.6   80.  ]\n",
      " [  1.    28.     0.   ...  27.32   5.7  158.  ]\n",
      " ...\n",
      " [  1.    66.     0.   ...  27.83   5.7  155.  ]\n",
      " [  0.    24.     0.   ...  35.42   4.   100.  ]\n",
      " [  0.    57.     0.   ...  22.43   6.6   90.  ]]\n"
     ]
    },
    {
     "data": {
      "text/plain": [
       "array([0, 0, 0, ..., 0, 0, 0])"
      ]
     },
     "execution_count": 43,
     "metadata": {},
     "output_type": "execute_result"
    }
   ],
   "source": [
    "X = data.iloc[:,1:-1].values\n",
    "y = data.iloc[:,-1].values\n",
    "\n",
    "print(X)\n",
    "y\n"
   ]
  },
  {
   "cell_type": "code",
   "execution_count": 46,
   "metadata": {},
   "outputs": [
    {
     "name": "stdout",
     "output_type": "stream",
     "text": [
      "77728\n",
      "2258\n"
     ]
    }
   ],
   "source": [
    "#Splitting into test and train set\n",
    "X_train, X_test, y_train, y_test = train_test_split(X, y, test_size=.80)\n",
    "\n",
    "# create model instance\n",
    "bst = XGBClassifier(n_estimators=2, max_depth=2, learning_rate=1, objective='binary:logistic')\n",
    "# fit model\n",
    "bst.fit(X_train, y_train)\n",
    "# make predictions\n",
    "preds = bst.predict(X_test)\n",
    "\n",
    "correct = 0\n",
    "false = 0\n",
    "\n",
    "for i in range(len(preds)):\n",
    "    if preds[i] == y_test[i]:\n",
    "        correct += 1\n",
    "    else: \n",
    "        false += 1\n",
    "\n",
    "\n",
    "print(correct)\n",
    "print(false)\n",
    "\n",
    "\n",
    "\n"
   ]
  },
  {
   "cell_type": "code",
   "execution_count": 37,
   "metadata": {},
   "outputs": [
    {
     "data": {
      "text/plain": [
       "array([[1, 19.0, 0, ..., 6.5, 158, 0],\n",
       "       [0, 35.0, 0, ..., 3.5, 159, 0],\n",
       "       [1, 2.0, 0, ..., 4.8, 80, 0],\n",
       "       ...,\n",
       "       [0, 73.0, 1, ..., 3.5, 145, 0],\n",
       "       [0, 80.0, 0, ..., 6.0, 200, 0],\n",
       "       [1, 80.0, 0, ..., 4.8, 140, 0]], dtype=object)"
      ]
     },
     "execution_count": 37,
     "metadata": {},
     "output_type": "execute_result"
    }
   ],
   "source": [
    "#print(np.unique(y_test))\n",
    "#print(np.unique(preds))\n",
    "\n",
    "X_train"
   ]
  },
  {
   "cell_type": "code",
   "execution_count": 23,
   "metadata": {},
   "outputs": [
    {
     "data": {
      "text/plain": [
       "<AxesSubplot: title={'center': 'Feature importance'}, xlabel='F score', ylabel='Features'>"
      ]
     },
     "execution_count": 23,
     "metadata": {},
     "output_type": "execute_result"
    },
    {
     "data": {
      "image/png": "[encoded data removed]",
      "text/plain": [
       "<Figure size 640x480 with 1 Axes>"
      ]
     },
     "metadata": {},
     "output_type": "display_data"
    }
   ],
   "source": [
    "xgb.plot_importance(bst)"
   ]
  }
 ],
 "metadata": {
  "kernelspec": {
   "display_name": "Python 3",
   "language": "python",
   "name": "python3"
  },
  "language_info": {
   "codemirror_mode": {
    "name": "ipython",
    "version": 3
   },
   "file_extension": ".py",
   "mimetype": "text/x-python",
   "name": "python",
   "nbconvert_exporter": "python",
   "pygments_lexer": "ipython3",
   "version": "3.10.4"
  },
  "orig_nbformat": 4,
  "vscode": {
   "interpreter": {
    "hash": "aee8b7b246df8f9039afb4144a1f6fd8d2ca17a180786b69acc140d282b71a49"
   }
  }
 },
 "nbformat": 4,
 "nbformat_minor": 2
}
